{
 "cells": [
  {
   "cell_type": "markdown",
   "id": "9263dd10",
   "metadata": {},
   "source": [
    "**Benefits of Numpy on Python List**\n",
    "\n",
    "1. Less Memory\n",
    "2. Fast\n",
    "3. Convinient"
   ]
  },
  {
   "cell_type": "code",
   "execution_count": 10,
   "id": "f4386bdd",
   "metadata": {},
   "outputs": [],
   "source": [
    "import numpy as np\n",
    "import sys\n",
    "import time"
   ]
  },
  {
   "cell_type": "markdown",
   "id": "f885462a",
   "metadata": {},
   "source": [
    "**Python List taking more memory compared to Numpy**"
   ]
  },
  {
   "cell_type": "code",
   "execution_count": 6,
   "id": "08755869",
   "metadata": {},
   "outputs": [
    {
     "name": "stdout",
     "output_type": "stream",
     "text": [
      "size of python list 28000\n",
      "size of numpy array 4000\n"
     ]
    }
   ],
   "source": [
    "l = range(1000)\n",
    "print(\"size of python list\", sys.getsizeof(5)*len(l))\n",
    "\n",
    "array = np.arange(1000)\n",
    "print(\"size of numpy array\", array.size*array.itemsize)"
   ]
  },
  {
   "cell_type": "markdown",
   "id": "bd8e582f",
   "metadata": {},
   "source": [
    "**Python List is slow than numpy**"
   ]
  },
  {
   "cell_type": "code",
   "execution_count": 13,
   "id": "dd92696e",
   "metadata": {},
   "outputs": [
    {
     "name": "stdout",
     "output_type": "stream",
     "text": [
      "python list took 1320.4221725463867\n",
      "numpy took 11.672496795654297\n"
     ]
    }
   ],
   "source": [
    "ranges = 10000000\n",
    "lst1 = range(ranges)\n",
    "lst2 = range(ranges)\n",
    "\n",
    "n1 = np.arange(ranges)\n",
    "n2 = np.arange(ranges)\n",
    "\n",
    "\n",
    "start = time.time()\n",
    "lst_result = [(x+y) for x,y in zip(lst1,lst2)]\n",
    "print(\"python list took\",(time.time()-start)*1000)\n",
    "\n",
    "start = time.time()\n",
    "num_res = n1 + n2\n",
    "print(\"numpy took\", (time.time()-start)*1000)"
   ]
  },
  {
   "cell_type": "markdown",
   "id": "6090daa5",
   "metadata": {},
   "source": [
    "**Iterate numpy array using nditer**"
   ]
  },
  {
   "cell_type": "code",
   "execution_count": 15,
   "id": "c92f6a15",
   "metadata": {},
   "outputs": [
    {
     "data": {
      "text/plain": [
       "array([[0, 1, 2],\n",
       "       [3, 4, 5],\n",
       "       [6, 7, 8]])"
      ]
     },
     "execution_count": 15,
     "metadata": {},
     "output_type": "execute_result"
    }
   ],
   "source": [
    "a = np.arange(9).reshape(3,3)\n",
    "a"
   ]
  },
  {
   "cell_type": "code",
   "execution_count": 18,
   "id": "9bf21d7e",
   "metadata": {},
   "outputs": [
    {
     "name": "stdout",
     "output_type": "stream",
     "text": [
      "0\n",
      "1\n",
      "2\n",
      "3\n",
      "4\n",
      "5\n",
      "6\n",
      "7\n",
      "8\n"
     ]
    }
   ],
   "source": [
    "for x in np.nditer(a, order = 'C'):\n",
    "    print(x)"
   ]
  },
  {
   "cell_type": "code",
   "execution_count": 20,
   "id": "1badd82c",
   "metadata": {},
   "outputs": [
    {
     "name": "stdout",
     "output_type": "stream",
     "text": [
      "[0 3 6]\n",
      "[1 4 7]\n",
      "[2 5 8]\n"
     ]
    }
   ],
   "source": [
    "for x in np.nditer(a, order = 'F',flags = ['external_loop']):\n",
    "    print(x)"
   ]
  },
  {
   "cell_type": "markdown",
   "id": "0b504f1d",
   "metadata": {},
   "source": [
    "**Evenly spaced values**"
   ]
  },
  {
   "cell_type": "code",
   "execution_count": 23,
   "id": "7bc9ed75",
   "metadata": {},
   "outputs": [
    {
     "name": "stdout",
     "output_type": "stream",
     "text": [
      "[10. 14. 18. 22. 26. 30.]\n"
     ]
    }
   ],
   "source": [
    "a = np.linspace(10,30,6)\n",
    "print(a)"
   ]
  },
  {
   "cell_type": "code",
   "execution_count": null,
   "id": "6f69e9ea",
   "metadata": {},
   "outputs": [],
   "source": []
  },
  {
   "cell_type": "code",
   "execution_count": null,
   "id": "93aead14",
   "metadata": {},
   "outputs": [],
   "source": []
  }
 ],
 "metadata": {
  "kernelspec": {
   "display_name": "Python 3 (ipykernel)",
   "language": "python",
   "name": "python3"
  },
  "language_info": {
   "codemirror_mode": {
    "name": "ipython",
    "version": 3
   },
   "file_extension": ".py",
   "mimetype": "text/x-python",
   "name": "python",
   "nbconvert_exporter": "python",
   "pygments_lexer": "ipython3",
   "version": "3.9.12"
  }
 },
 "nbformat": 4,
 "nbformat_minor": 5
}
